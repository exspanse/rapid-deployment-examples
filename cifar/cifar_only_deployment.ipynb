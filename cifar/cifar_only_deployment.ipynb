{
 "cells": [
  {
   "cell_type": "code",
   "execution_count": null,
   "metadata": {
    "id": "3fcd560e",
    "outputId": "4731b564-7910-aaac-f374-01275af6b6bd",
    "runTime": {
     "end": 1684855992939,
     "hasRun": true,
     "output_error": false,
     "start": 1684855990401,
     "time": 2.5
    }
   },
   "outputs": [
    {
     "name": "stdout",
     "output_type": "stream",
     "text": [
      "2023-05-23 15:33:11.216798: I tensorflow/core/platform/cpu_feature_guard.cc:193] This TensorFlow binary is optimized with oneAPI Deep Neural Network Library (oneDNN) to use the following CPU instructions in performance-critical operations:  AVX2 AVX512F FMA\n",
      "To enable them in other operations, rebuild TensorFlow with the appropriate compiler flags.\n",
      "2023-05-23 15:33:11.342782: W tensorflow/compiler/xla/stream_executor/platform/default/dso_loader.cc:64] Could not load dynamic library 'libcudart.so.11.0'; dlerror: libcudart.so.11.0: cannot open shared object file: No such file or directory\n",
      "2023-05-23 15:33:11.342801: I tensorflow/compiler/xla/stream_executor/cuda/cudart_stub.cc:29] Ignore above cudart dlerror if you do not have a GPU set up on your machine.\n",
      "2023-05-23 15:33:12.019756: W tensorflow/compiler/xla/stream_executor/platform/default/dso_loader.cc:64] Could not load dynamic library 'libnvinfer.so.7'; dlerror: libnvinfer.so.7: cannot open shared object file: No such file or directory\n",
      "2023-05-23 15:33:12.019848: W tensorflow/compiler/xla/stream_executor/platform/default/dso_loader.cc:64] Could not load dynamic library 'libnvinfer_plugin.so.7'; dlerror: libnvinfer_plugin.so.7: cannot open shared object file: No such file or directory\n",
      "2023-05-23 15:33:12.019857: W tensorflow/compiler/tf2tensorrt/utils/py_utils.cc:38] TF-TRT Warning: Cannot dlopen some TensorRT libraries. If you would like to use Nvidia GPU with TensorRT, please make sure the missing libraries mentioned above are installed properly.\n"
     ]
    }
   ],
   "source": [
    "from flask import Flask, request\n",
    "import numpy as np\n",
    "import pickle\n",
    "from flask import Flask, request, jsonify\n",
    "from flask import Flask, request, jsonify\n",
    "from PIL import Image\n",
    "import base64\n",
    "import numpy as np\n",
    "from PIL import Image\n",
    "import tensorflow as tf\n",
    "from tensorflow import keras\n",
    "import keras.utils as image\n",
    "from keras.models import load_model\n",
    "import tensorflow"
   ]
  },
  {
   "cell_type": "code",
   "execution_count": null,
   "id": "e092ef2f",
   "metadata": {
    "id": "7bc87b3c",
    "outputId": "8602f963-abf6-5db0-a4b7-eab3a2da6f7e",
    "runTime": {
     "end": 1684856079625,
     "hasRun": true,
     "output_error": false,
     "start": 1684856079151,
     "time": 0.5
    }
   },
   "outputs": [],
   "source": [
    "def predict(filepath):\n",
    "    img = Image.open(filepath)\n",
    "    img = img.resize((32, 32))\n",
    "    img = image.img_to_array(img)\n",
    "    print(img.shape)\n",
    "    img = img.reshape((1,) + img.shape)\n",
    "    print(img.shape)\n",
    "    model = keras.models.load_model('trained_model.h5')\n",
    "\n",
    "    predictions = model.predict(img)\n",
    "    max_index = int(np.argmax(predictions))\n",
    "\n",
    "    data = ['airplane', 'automobile', 'bird', 'cat', 'deer',\n",
    "               'dog', 'frog', 'horse', 'ship', 'truck']\n",
    "    prediction = data[max_index]\n",
    "    print(\"Class: \", prediction)\n",
    "    output = np.array(prediction).tolist()\n",
    "    return jsonify(output)"
   ]
  },
  {
   "cell_type": "code",
   "execution_count": null,
   "id": "40f58cbe",
   "metadata": {
    "id": "c83df33c",
    "outputId": "70e575a5-cf37-3f5a-ad5d-99e5d4446dca"
   },
   "outputs": [],
   "source": []
  }
 ],
 "metadata": {
  "kernelspec": {
   "display_name": "Python 3",
   "language": "python",
   "name": "python3"
  },
  "language_info": {
   "name": "python",
   "version": "3.11.3 (v3.11.3:f3909b8bc8, Apr  4 2023, 20:12:10) [Clang 13.0.0 (clang-1300.0.29.30)]"
  },
  "vscode": {
   "interpreter": {
    "hash": "aee8b7b246df8f9039afb4144a1f6fd8d2ca17a180786b69acc140d282b71a49"
   }
  }
 },
 "nbformat": 4,
 "nbformat_minor": 2
}
