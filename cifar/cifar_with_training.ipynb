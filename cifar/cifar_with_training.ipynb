{
 "cells": [
  {
   "cell_type": "code",
   "execution_count": null,
   "metadata": {
    "id": "3fcd560e",
    "outputId": "4731b564-7910-aaac-f374-01275af6b6bd",
    "runTime": {
     "end": 1688369473825,
     "hasRun": true,
     "output_error": false,
     "start": 1688369473375,
     "time": 0.5
    }
   },
   "outputs": [],
   "source": [
    "from flask import Flask, request\n",
    "import numpy as np\n",
    "import pickle\n",
    "from flask import Flask, request, jsonify\n",
    "from PIL import Image\n",
    "import base64\n",
    "import numpy as np\n",
    "from PIL import Image\n",
    "import tensorflow as tf\n",
    "from tensorflow import keras\n",
    "import keras.utils as image\n",
    "from keras.models import load_model\n",
    "import tensorflow"
   ]
  },
  {
   "cell_type": "code",
   "execution_count": null,
   "id": "3d85180d",
   "metadata": {
    "id": "71a1b5df",
    "outputId": "b423c216-1f3d-033c-0cc0-3be0f0b40625",
    "runTime": {
     "end": 1688363021469,
     "hasRun": true,
     "output_error": false,
     "start": 1688357341928,
     "time": 5679.5
    }
   },
   "outputs": [
    {
     "name": "stdout",
     "output_type": "stream",
     "text": [
      "782/782 [==============================] - ETA: 0s - loss: 0.6290 - accuracy: 0.7754\n",
      "Epoch 11/30\n",
      "782/782 [==============================] - ETA: 0s - loss: 0.6004 - accuracy: 0.7860\n",
      "Epoch 12/30\n",
      "782/782 [==============================] - ETA: 0s - loss: 0.5821 - accuracy: 0.7941\n",
      "Epoch 13/30\n",
      "782/782 [==============================] - ETA: 0s - loss: 0.5556 - accuracy: 0.8023\n",
      "Epoch 14/30\n",
      "782/782 [==============================] - ETA: 0s - loss: 0.5424 - accuracy: 0.8060\n",
      "Epoch 15/30\n",
      "782/782 [==============================] - ETA: 0s - loss: 0.5231 - accuracy: 0.8147\n",
      "Epoch 16/30\n",
      "782/782 [==============================] - ETA: 0s - loss: 0.5048 - accuracy: 0.8207\n",
      "Epoch 17/30\n",
      "782/782 [==============================] - ETA: 0s - loss: 0.5004 - accuracy: 0.8219\n",
      "Epoch 18/30\n",
      "782/782 [==============================] - ETA: 0s - loss: 0.4788 - accuracy: 0.8299\n",
      "Epoch 19/30\n",
      "782/782 [==============================] - ETA: 0s - loss: 0.4676 - accuracy: 0.8342\n",
      "Epoch 20/30\n",
      "782/782 [==============================] - ETA: 0s - loss: 0.4545 - accuracy: 0.8398\n",
      "Epoch 21/30\n",
      "782/782 [==============================] - ETA: 0s - loss: 0.4513 - accuracy: 0.8376\n",
      "Epoch 22/30\n",
      "782/782 [==============================] - ETA: 0s - loss: 0.4318 - accuracy: 0.8461\n",
      "Epoch 23/30\n",
      "782/782 [==============================] - ETA: 0s - loss: 0.4355 - accuracy: 0.8445\n",
      "Epoch 24/30\n",
      "782/782 [==============================] - ETA: 0s - loss: 0.4219 - accuracy: 0.8486\n",
      "Epoch 25/30\n",
      "782/782 [==============================] - ETA: 0s - loss: 0.4113 - accuracy: 0.8540\n",
      "Epoch 26/30\n",
      "782/782 [==============================] - ETA: 0s - loss: 0.3988 - accuracy: 0.8584\n",
      "Epoch 27/30\n",
      "782/782 [==============================] - ETA: 0s - loss: 0.3966 - accuracy: 0.8598\n",
      "Epoch 28/30\n",
      "782/782 [==============================] - ETA: 0s - loss: 0.3886 - accuracy: 0.8626\n",
      "Epoch 29/30\n",
      "782/782 [==============================] - ETA: 0s - loss: 0.3855 - accuracy: 0.8628\n",
      "Epoch 30/30\n",
      "782/782 [==============================] - 184s 236ms/step - loss: 0.3806 - accuracy: 0.8642 - val_loss: 0.6907 - val_accuracy: 0.7932\n",
      "Test accuracy: 0.7932000160217285\n"
     ]
    },
    {
     "data": {
      "image/png": "[encoded data removed]",
      "text/plain": [
       "<Figure size 640x480 with 1 Axes>"
      ]
     },
     "metadata": {},
     "output_type": "display_data"
    }
   ],
   "source": [
    "# keras cifar10 training python\n",
    "\n",
    "# As an AI language model, I cannot run Python code, but I can guide you through the process of training the CIFAR-10 dataset using Keras in Python. Here are the steps:\n",
    "\n",
    "# 1. Import the necessary libraries:\n",
    "\n",
    "\n",
    "import keras\n",
    "from keras.datasets import cifar10\n",
    "from keras.models import Sequential\n",
    "from keras.layers import Dense, Dropout, Flatten\n",
    "from keras.layers import Conv2D, MaxPooling2D\n",
    "from keras.utils import to_categorical\n",
    "\n",
    "\n",
    "# 2. Load the CIFAR-10 dataset:\n",
    "\n",
    "\n",
    "(x_train, y_train), (x_test, y_test) = cifar10.load_data()\n",
    "\n",
    "\n",
    "# 3. Normalize the input data:\n",
    "\n",
    "\n",
    "x_train = x_train.astype('float32') / 255\n",
    "x_test = x_test.astype('float32') / 255\n",
    "\n",
    "\n",
    "# 4. Convert the target labels to one-hot encoded format:\n",
    "\n",
    "\n",
    "y_train = to_categorical(y_train, 10)\n",
    "y_test = to_categorical(y_test, 10)\n",
    "\n",
    "\n",
    "# 5. Define the CNN architecture:\n",
    "\n",
    "\n",
    "model = Sequential()\n",
    "model.add(Conv2D(32, (3, 3), activation='relu', padding='same', input_shape=x_train.shape[1:]))\n",
    "model.add(Conv2D(32, (3, 3), activation='relu'))\n",
    "model.add(MaxPooling2D(pool_size=(2, 2)))\n",
    "model.add(Dropout(0.25))\n",
    "\n",
    "model.add(Conv2D(64, (3, 3), activation='relu', padding='same'))\n",
    "model.add(Conv2D(64, (3, 3), activation='relu'))\n",
    "model.add(MaxPooling2D(pool_size=(2, 2)))\n",
    "model.add(Dropout(0.25))\n",
    "\n",
    "model.add(Flatten())\n",
    "model.add(Dense(512, activation='relu'))\n",
    "model.add(Dropout(0.5))\n",
    "model.add(Dense(10, activation='softmax'))\n",
    "\n",
    "\n",
    "# 6. Compile the model using appropriate optimizer, loss function and metrics:\n",
    "\n",
    "\n",
    "model.compile(optimizer='adam', loss='categorical_crossentropy', metrics=['accuracy'])\n",
    "\n",
    "\n",
    "# 7. Train the model using the prepared training set and validation set:\n",
    "\n",
    "\n",
    "history = model.fit(x_train, y_train, batch_size=64, epochs=30, validation_data=(x_test, y_test), shuffle=True)\n",
    "\n",
    "model.save('trained_model.h5')\n",
    "# 8. Evaluate the trained model using the test set:\n",
    "\n",
    "\n",
    "score = model.evaluate(x_test, y_test, verbose=0)\n",
    "print('Test accuracy:', score[1])\n",
    "\n",
    "\n",
    "# 9. Visualize the model performance:\n",
    "\n",
    "\n",
    "import matplotlib.pyplot as plt\n",
    "\n",
    "plt.plot(history.history['accuracy'], label='train')\n",
    "plt.plot(history.history['val_accuracy'], label='test')\n",
    "plt.legend()\n",
    "plt.show()\n",
    "\n",
    "\n",
    "# These are the basic steps. You can further optimize the model by experimenting with different architectures, hyperparameters, and regularization techniques."
   ]
  },
  {
   "cell_type": "code",
   "execution_count": null,
   "id": "e092ef2f",
   "metadata": {
    "id": "7bc87b3c",
    "outputId": "8602f963-abf6-5db0-a4b7-eab3a2da6f7e",
    "runTime": {
     "end": 1688369485094,
     "hasRun": true,
     "output_error": false,
     "start": 1688369484592,
     "time": 0.5
    }
   },
   "outputs": [],
   "source": [
    "\n",
    "def predict(filepath):\n",
    "    img = Image.open(filepath)\n",
    "    img = img.resize((32, 32))\n",
    "    img = image.img_to_array(img)\n",
    "    print(img.shape)\n",
    "    img = img.reshape((1,) + img.shape)\n",
    "    print(img.shape)\n",
    "    model = keras.models.load_model('trained_model.h5')\n",
    "\n",
    "    predictions = model.predict(img)\n",
    "    max_index = int(np.argmax(predictions))\n",
    "\n",
    "    data = ['airplane', 'automobile', 'bird', 'cat', 'deer',\n",
    "               'dog', 'frog', 'horse', 'ship', 'truck']\n",
    "    prediction = data[max_index]\n",
    "    print(\"Class: \", prediction)\n",
    "    output = np.array(prediction).tolist()\n",
    "    #return output - this output is for Flask\n",
    "    #if you need plain output just return or print prediction\n",
    "    return jsonify(output)"
   ]
  },
  {
   "cell_type": "code",
   "execution_count": null,
   "id": "40f58cbe",
   "metadata": {
    "id": "c83df33c",
    "outputId": "70e575a5-cf37-3f5a-ad5d-99e5d4446dca",
    "runTime": {
     "end": 1688369489766,
     "hasRun": true,
     "output_error": true,
     "start": 1688369488041,
     "time": 1.7
    }
   },
   "outputs": [
    {
     "name": "stdout",
     "output_type": "stream",
     "text": [
      "(32, 32, 3)\n",
      "(1, 32, 32, 3)\n",
      "1/1 [==============================] - 0s 202ms/step\n",
      "Class:  horse\n"
     ]
    },
    {
     "ename": "RuntimeError",
     "evalue": "Working outside of application context.\n\nThis typically means that you attempted to use functionality that needed\nthe current application. To solve this, set up an application context\nwith app.app_context(). See the documentation for more information.",
     "output_type": "error",
     "traceback": [
      "\u001b[0;31m---------------------------------------------------------------------------\u001b[0m",
      "\u001b[0;31mRuntimeError\u001b[0m                              Traceback (most recent call last)",
      "Cell \u001b[0;32mIn[6], line 1\u001b[0m\n\u001b[0;32m----> 1\u001b[0m res \u001b[38;5;241m=\u001b[39m \u001b[43mpredict\u001b[49m\u001b[43m(\u001b[49m\u001b[38;5;124;43m\"\u001b[39;49m\u001b[38;5;124;43m/home/jovyan/storage/cifar/0005.jpeg\u001b[39;49m\u001b[38;5;124;43m\"\u001b[39;49m\u001b[43m)\u001b[49m\n\u001b[1;32m      2\u001b[0m \u001b[38;5;28mprint\u001b[39m(res)\n",
      "Cell \u001b[0;32mIn[5], line 21\u001b[0m, in \u001b[0;36mpredict\u001b[0;34m(filepath)\u001b[0m\n\u001b[1;32m     19\u001b[0m output \u001b[38;5;241m=\u001b[39m np\u001b[38;5;241m.\u001b[39marray(prediction)\u001b[38;5;241m.\u001b[39mtolist()\n\u001b[1;32m     20\u001b[0m \u001b[38;5;66;03m#return output\u001b[39;00m\n\u001b[0;32m---> 21\u001b[0m \u001b[38;5;28;01mreturn\u001b[39;00m \u001b[43mjsonify\u001b[49m\u001b[43m(\u001b[49m\u001b[43moutput\u001b[49m\u001b[43m)\u001b[49m\n",
      "File \u001b[0;32m/opt/conda/lib/python3.10/site-packages/flask/json/__init__.py:342\u001b[0m, in \u001b[0;36mjsonify\u001b[0;34m(*args, **kwargs)\u001b[0m\n\u001b[1;32m    310\u001b[0m \u001b[38;5;28;01mdef\u001b[39;00m \u001b[38;5;21mjsonify\u001b[39m(\u001b[38;5;241m*\u001b[39margs: t\u001b[38;5;241m.\u001b[39mAny, \u001b[38;5;241m*\u001b[39m\u001b[38;5;241m*\u001b[39mkwargs: t\u001b[38;5;241m.\u001b[39mAny) \u001b[38;5;241m-\u001b[39m\u001b[38;5;241m>\u001b[39m Response:\n\u001b[1;32m    311\u001b[0m \u001b[38;5;250m    \u001b[39m\u001b[38;5;124;03m\"\"\"Serialize the given arguments as JSON, and return a\u001b[39;00m\n\u001b[1;32m    312\u001b[0m \u001b[38;5;124;03m    :class:`~flask.Response` object with the ``application/json``\u001b[39;00m\n\u001b[1;32m    313\u001b[0m \u001b[38;5;124;03m    mimetype. A dict or list returned from a view will be converted to a\u001b[39;00m\n\u001b[0;32m   (...)\u001b[0m\n\u001b[1;32m    340\u001b[0m \u001b[38;5;124;03m    .. versionadded:: 0.2\u001b[39;00m\n\u001b[1;32m    341\u001b[0m \u001b[38;5;124;03m    \"\"\"\u001b[39;00m\n\u001b[0;32m--> 342\u001b[0m     \u001b[38;5;28;01mreturn\u001b[39;00m \u001b[43mcurrent_app\u001b[49m\u001b[38;5;241;43m.\u001b[39;49m\u001b[43mjson\u001b[49m\u001b[38;5;241m.\u001b[39mresponse(\u001b[38;5;241m*\u001b[39margs, \u001b[38;5;241m*\u001b[39m\u001b[38;5;241m*\u001b[39mkwargs)\n",
      "File \u001b[0;32m/opt/conda/lib/python3.10/site-packages/werkzeug/local.py:316\u001b[0m, in \u001b[0;36m_ProxyLookup.__get__\u001b[0;34m(self, instance, owner)\u001b[0m\n\u001b[1;32m    313\u001b[0m     \u001b[38;5;28;01mreturn\u001b[39;00m \u001b[38;5;28mself\u001b[39m\n\u001b[1;32m    315\u001b[0m \u001b[38;5;28;01mtry\u001b[39;00m:\n\u001b[0;32m--> 316\u001b[0m     obj \u001b[38;5;241m=\u001b[39m \u001b[43minstance\u001b[49m\u001b[38;5;241;43m.\u001b[39;49m\u001b[43m_get_current_object\u001b[49m\u001b[43m(\u001b[49m\u001b[43m)\u001b[49m\n\u001b[1;32m    317\u001b[0m \u001b[38;5;28;01mexcept\u001b[39;00m \u001b[38;5;167;01mRuntimeError\u001b[39;00m:\n\u001b[1;32m    318\u001b[0m     \u001b[38;5;28;01mif\u001b[39;00m \u001b[38;5;28mself\u001b[39m\u001b[38;5;241m.\u001b[39mfallback \u001b[38;5;129;01mis\u001b[39;00m \u001b[38;5;28;01mNone\u001b[39;00m:\n",
      "File \u001b[0;32m/opt/conda/lib/python3.10/site-packages/werkzeug/local.py:513\u001b[0m, in \u001b[0;36mLocalProxy.__init__.<locals>._get_current_object\u001b[0;34m()\u001b[0m\n\u001b[1;32m    511\u001b[0m     obj \u001b[38;5;241m=\u001b[39m local\u001b[38;5;241m.\u001b[39mget()  \u001b[38;5;66;03m# type: ignore[union-attr]\u001b[39;00m\n\u001b[1;32m    512\u001b[0m \u001b[38;5;28;01mexcept\u001b[39;00m \u001b[38;5;167;01mLookupError\u001b[39;00m:\n\u001b[0;32m--> 513\u001b[0m     \u001b[38;5;28;01mraise\u001b[39;00m \u001b[38;5;167;01mRuntimeError\u001b[39;00m(unbound_message) \u001b[38;5;28;01mfrom\u001b[39;00m \u001b[38;5;28mNone\u001b[39m\n\u001b[1;32m    515\u001b[0m \u001b[38;5;28;01mreturn\u001b[39;00m get_name(obj)\n",
      "\u001b[0;31mRuntimeError\u001b[0m: Working outside of application context.\n\nThis typically means that you attempted to use functionality that needed\nthe current application. To solve this, set up an application context\nwith app.app_context(). See the documentation for more information."
     ]
    }
   ],
   "source": [
    "#res = predict(\"/home/jovyan/storage/cifar/0005.jpeg\")\n",
    "#print(res)"
   ]
  }
 ],
 "metadata": {
  "kernelspec": {
   "display_name": "Python 3",
   "language": "python",
   "name": "python3"
  },
  "language_info": {
   "name": "python",
   "version": "3.11.3 (v3.11.3:f3909b8bc8, Apr  4 2023, 20:12:10) [Clang 13.0.0 (clang-1300.0.29.30)]"
  },
  "vscode": {
   "interpreter": {
    "hash": "aee8b7b246df8f9039afb4144a1f6fd8d2ca17a180786b69acc140d282b71a49"
   }
  }
 },
 "nbformat": 4,
 "nbformat_minor": 2
}
